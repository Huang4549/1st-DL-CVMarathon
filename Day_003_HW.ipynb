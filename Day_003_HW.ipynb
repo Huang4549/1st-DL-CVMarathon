{
 "cells": [
  {
   "cell_type": "code",
   "execution_count": null,
   "metadata": {},
   "outputs": [],
   "source": [
    "Google AI Blog: '低數據環境下的模仿學習'\n",
    "\n",
    "Q:專案的目標？ (要解決什麼問題）\n",
    "A:解決在資料不足的情況\n",
    "Q:使用的技術是？ (只需知道名稱即可，例如：使用 CNN 卷積神經網路做影像分類)\n",
    "A:利用強化學習進行Primal Wasserstein Imitation Learning” (PWIL)\n",
    "Q:資料來源？\n",
    "A:Google Research"
   ]
  }
 ],
 "metadata": {
  "kernelspec": {
   "display_name": "Python 3",
   "language": "python",
   "name": "python3"
  },
  "language_info": {
   "codemirror_mode": {
    "name": "ipython",
    "version": 3
   },
   "file_extension": ".py",
   "mimetype": "text/x-python",
   "name": "python",
   "nbconvert_exporter": "python",
   "pygments_lexer": "ipython3",
   "version": "3.8.3"
  }
 },
 "nbformat": 4,
 "nbformat_minor": 4
}
