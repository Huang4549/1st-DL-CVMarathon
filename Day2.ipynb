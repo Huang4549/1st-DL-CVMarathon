{
 "cells": [
  {
   "cell_type": "code",
   "execution_count": null,
   "metadata": {},
   "outputs": [],
   "source": [
    "Q:請找出一個你認為機器學習可以發光發熱的領域並闡述原因?\n",
    "A:我認為非監督式學習能夠真正使機器學習的領域發光發熱。\n",
    "    若機器能夠藉由自然規則找出規律，那麼對於遵循自然規則的現象、材料等就可能藉由機器學習得到近一步的發展。"
   ]
  }
 ],
 "metadata": {
  "kernelspec": {
   "display_name": "Python 3",
   "language": "python",
   "name": "python3"
  },
  "language_info": {
   "codemirror_mode": {
    "name": "ipython",
    "version": 3
   },
   "file_extension": ".py",
   "mimetype": "text/x-python",
   "name": "python",
   "nbconvert_exporter": "python",
   "pygments_lexer": "ipython3",
   "version": "3.8.3"
  }
 },
 "nbformat": 4,
 "nbformat_minor": 4
}
